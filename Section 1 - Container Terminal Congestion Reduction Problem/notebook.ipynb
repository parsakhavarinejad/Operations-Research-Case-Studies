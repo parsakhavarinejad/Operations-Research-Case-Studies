{
 "cells": [
  {
   "cell_type": "markdown",
   "id": "4fa54a3b",
   "metadata": {},
   "source": [
    "## Container Terminal Congestion Problem\n",
    "\n",
    "Consider a container terminal with a storage yard consisting of 100 blocks, each with\n",
    "storage space to hold 600 containers, numbered 1 to 100. \n",
    "\n",
    "For $i = 1, \\dots, 100$, if no newly arriving containers are sent to block $i$, the number \n",
    "of stored containers is expected to be:\n",
    "\n",
    "320, 157, 213, 96, 413, 312, 333, 472, 171, 222,\n",
    "439, 212, 190, 220, 372, 101, 212, 251, 86, 79,\n",
    "295, 138, 343, 281, 372, 450, 100, 183, 99, 505,\n",
    "99, 254, 330, 279, 300, 150, 340, 221, 79, 119,\n",
    "43, 71, 219, 363, 98, 500, 413, 259, 182, 391,\n",
    "360, 447, 181, 233, 414, 30, 333, 427, 251, 83,\n",
    "144, 404, 76, 84, 196, 336, 411, 280, 115, 200,\n",
    "117, 284, 263, 477, 431, 297, 380, 327, 155, 360,\n",
    "360, 290, 350, 157, 116, 141, 82, 116, 99, 78,\n",
    "220, 182, 96, 301, 121, 278, 372, 119, 282, 310\n",
    "\n",
    "\n",
    "The terminal estimates that **15,166 new containers** will be unloaded and dispatched \n",
    "to the storage yard in this period.  \n",
    "\n",
    "**Goal:** Determine an optimal plan to allocate these new containers to blocks to \n",
    "**minimize congestion** on the terminal roads.\n",
    "\n",
    "---"
   ]
  },
  {
   "cell_type": "markdown",
   "id": "6f58a286",
   "metadata": {},
   "source": [
    "## Import the libraries"
   ]
  },
  {
   "cell_type": "code",
   "execution_count": 22,
   "id": "8ed83cc7",
   "metadata": {},
   "outputs": [],
   "source": [
    "import pyomo\n",
    "import numpy as np\n",
    "import pandas as pd\n",
    "\n",
    "from pyomo.environ import SolverFactory\n",
    "import pyomo.environ as pyo\n",
    "from pyomo.environ import RangeSet, NonNegativeReals, Reals, Constraint"
   ]
  },
  {
   "cell_type": "markdown",
   "id": "dc035422",
   "metadata": {},
   "source": [
    "## Model Inputs"
   ]
  },
  {
   "cell_type": "code",
   "execution_count": 13,
   "id": "f21e647e",
   "metadata": {},
   "outputs": [],
   "source": [
    "# a_i: The number of stored containers in block i at the end of the period if no new containers are sent\n",
    "\n",
    "a_i = [320, 157, 213, 96, 413, 312, 333, 472, 171, 222,\n",
    "439, 212, 190, 220, 372, 101, 212, 251, 86, 79,\n",
    "295, 138, 343, 281, 372, 450, 100, 183, 99, 505,\n",
    "99, 254, 330, 279, 300, 150, 340, 221, 79, 119,\n",
    "43, 71, 219, 363, 98, 500, 413, 259, 182, 391,\n",
    "360, 447, 181, 233, 414, 30, 333, 427, 251, 83,\n",
    "144, 404, 76, 84, 196, 336, 411, 280, 115, 200,\n",
    "117, 284, 263, 477, 431, 297, 380, 327, 155, 360,\n",
    "360, 290, 350, 157, 116, 141, 82, 116, 99, 78,\n",
    "220, 182, 96, 301, 121, 278, 372, 119, 282, 310]\n",
    "\n",
    "a_i = {i: value_i for i, value_i in enumerate(a_i, 1)}\n",
    "\n",
    "# B: The number of blocks in storage yard\n",
    "# A: The number of storage space in each block\n",
    "\n",
    "B = 100\n",
    "A = 600\n",
    "\n",
    "period = 4  # 4 hours\n",
    "\n",
    "# N: The number of new containers being unloaded and dispatched to the storage yard\n",
    "N = 15166\n",
    "\n",
    "\n",
    "# Calculate Fill-Ration\n",
    "F = (N + sum(a_i))/A*B"
   ]
  },
  {
   "cell_type": "markdown",
   "id": "a0c9846e",
   "metadata": {},
   "source": [
    "## LP with Pyomo"
   ]
  },
  {
   "cell_type": "code",
   "execution_count": 6,
   "id": "21be9844",
   "metadata": {},
   "outputs": [],
   "source": [
    "solver = SolverFactory('glpk')"
   ]
  },
  {
   "cell_type": "code",
   "execution_count": null,
   "id": "0a71e3d9",
   "metadata": {},
   "outputs": [],
   "source": [
    "model = pyo.ConcreteModel()\n",
    "\n",
    "model.blocks = RangeSet(1, B)\n",
    "\n",
    "model.x = pyo.Var(model.blocks, within=NonNegativeReals)\n",
    "model.u_plus = pyo.Var(model.blocks, within=Reals)\n",
    "model.u_minus = pyo.Var(model.blocks, within=Reals)\n",
    "\n",
    "def congestion_rule(model, i):\n",
    "    return a_i[i] * model.x[i] - (model.u_plus[i] - model.u_minus[i]) == A * F\n",
    "\n",
    "model.congestion_constraint = Constraint(model.blocks, rule=congestion_rule)\n"
   ]
  }
 ],
 "metadata": {
  "kernelspec": {
   "display_name": "base",
   "language": "python",
   "name": "python3"
  },
  "language_info": {
   "codemirror_mode": {
    "name": "ipython",
    "version": 3
   },
   "file_extension": ".py",
   "mimetype": "text/x-python",
   "name": "python",
   "nbconvert_exporter": "python",
   "pygments_lexer": "ipython3",
   "version": "3.12.2"
  }
 },
 "nbformat": 4,
 "nbformat_minor": 5
}
